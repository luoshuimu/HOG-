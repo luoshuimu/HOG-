import time
import pandas as pd
import numpy as np
from skimage.feature import hog          # 导入hog特征提取算法
from sklearn.tree import DecisionTreeClassifier
from sklearn.metrics import accuracy_score,classification_report,confusion_matrix
from sklearn.model_selection import GridSearchCV
from sklearn.metrics import roc_auc_score

# 加载数据; x_train有128 * 128个特征/输入, y_train有相应的标签
x_train = pd.read_csv('DRdata.csv')
x_test = pd.read_csv('DSdata.csv')
y_train = pd.read_csv('DRsex.csv')
y_test = pd.read_csv('DSsex.csv')

# 归一化特征值
x_train = x_train.values / 255
y_train = y_train.values.ravel()
x_test = x_test.values / 255
y_test = y_test.values.ravel()

# 定义函数比较不同的HOG参数值对时间，验证集准确率，测试集准确率，AUC值的影响
def get_parameter(n, x_train, y_train, x_test, y_test):

    print(f'HOG参数值: {n}')
    
    # HOG特征提取
    start_time = time.time()
    x_train_hog = np.array([hog(img.reshape((128,128))) for img in x_train])
    x_test_hog = np.array([hog(img.reshape((128,128))) for img in x_test])
    
    # 随机森林分类器
    model  =  DecisionTreeClassifier()

   # 定义参数网格
    param_grid = {'criterion': ['gini', 'entropy'],
                  'max_depth': np.arange(5,11,1).tolist()}
    
    
    # 执行网格搜索并计算最佳的验证集准确率
    grid_search = GridSearchCV(model, param_grid=param_grid, cv=5, n_jobs=-1)
    grid_search.fit(x_train_hog, y_train)
    best_model = grid_search.best_estimator_
    best_score = grid_search.best_score_
    best_param = grid_search.best_params_
    # 预测并打印结果
    y_pred = best_model.predict(x_test_hog)
    y_pred_prob = best_model.predict_proba(x_test_hog)[:,1]
    auc = roc_auc_score(y_test,y_pred_prob)
    end_time = time.time()
    print(f'参数结果:{best_param}')
    print(f'验证集准确率: {best_score}')
    print(f'测试集准确率: {accuracy_score(y_test, y_pred)}')
    print(f'AUC值：{auc}')
    print(f'运行时间: {end_time-start_time}s')
    print(f'分类报告：{classification_report(y_test, y_pred)})
    print(f'混淆矩阵：{confusion_matrix(y_test, y_pred)})

# 测试不同特征量的参数值
get_parameter(1, x_train, y_train, x_test, y_test)
get_parameter(5, x_train, y_train, x_test, y_test)
get_parameter(10, x_train, y_train, x_test, y_test)
